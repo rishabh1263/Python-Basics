{
 "cells": [
  {
   "cell_type": "markdown",
   "id": "be6871ed",
   "metadata": {},
   "source": [
    "## THEORY QUESTIONS"
   ]
  },
  {
   "cell_type": "markdown",
   "id": "17a3a173",
   "metadata": {},
   "source": [
    "## Q1: What is Python, and why is it popular ?\n",
    "ANS: What is Python?\n",
    "Python is a high-level, interpreted programming language.\n",
    "\n",
    "It is known for simplicity and readability with easy syntax.\n",
    "\n",
    "Supports multiple paradigms (OOP, functional, procedural).\n",
    "\n",
    "Has a large standard library and extensive third-party support.\n",
    "\n",
    "Why is Python Popular?\n",
    "Easy to Learn & Use – Beginner-friendly with a clear syntax.\n",
    "\n",
    "Versatile – Used in web dev, data science, AI, automation, etc.\n",
    "\n",
    "Huge Community Support – Active developers and resources.\n",
    "\n",
    "Cross-Platform – Works on Windows, macOS, and Linux.\n",
    "\n",
    "Strong Libraries & Frameworks – NumPy, TensorFlow, Django, etc.\n",
    "\n",
    "Job Market Demand – High demand in tech industries.\n",
    "\n",
    "\n",
    "\n",
    "\n",
    "\n",
    "\n",
    "\n",
    "\n"
   ]
  },
  {
   "cell_type": "markdown",
   "id": "16a28f05",
   "metadata": {},
   "source": [
    "## Q2: What is an  Interpreter?\n",
    "ANS:\n",
    "    A Python interpreter is a program that executes Python code line by line.\n",
    "\n",
    "It converts high-level Python code into machine code at runtime.\n",
    "\n",
    "Python uses an interpreter-based approach (CPython is the default).\n",
    "\n",
    "It allows for interactive execution (REPL - Read, Eval, Print, Loop).\n",
    "\n",
    "No need for explicit compilation like in compiled languages (e.g., C, C++).\n",
    "\n",
    "Different implementations include CPython, PyPy, Jython, IronPython.\n",
    "\n",
    "\n",
    "\n",
    "\n",
    "\n",
    "\n",
    "\n",
    "\n"
   ]
  },
  {
   "cell_type": "markdown",
   "id": "7fdceda8",
   "metadata": {},
   "source": [
    "## Q3 : What are pre-defined keywords in Python ?\n",
    "ANS:\n",
    "Predefined keywords in Python are reserved words that have special meanings and cannot be used as identifiers. Here are some key points:\n",
    "\n",
    "Total Keywords – Python has around 35+ keywords (varies by version).\n",
    "\n",
    "Control Flow – if, else, elif, while, for, break, continue, pass\n",
    "\n",
    "Boolean & None – True, False, None\n",
    "\n",
    "Operators – and, or, not, is, in\n",
    "\n",
    "Functions & Classes – def, return, lambda, class\n",
    "\n",
    "Exception Handling – try, except, finally, raise, assert\n",
    "\n",
    "Import & Modules – import, from, as, global, nonlocal\n",
    "\n",
    "Data Handling – del, with, yield, async, await\n",
    "\n",
    "Use help(\"keywords\") or keyword.kwlist (from keyword module) to see the full list."
   ]
  },
  {
   "cell_type": "markdown",
   "id": "0172d61f",
   "metadata": {},
   "source": [
    "## Q4:  Can keywords be used as variable names ?\n",
    "ANS:\n",
    "    No, keywords cannot be used as variable names in Python.\n",
    "\n",
    "Keywords are reserved words with predefined meanings.\n",
    "\n",
    "Using a keyword as a variable name causes a syntax error.\n",
    "\n",
    "Example:\n",
    "\n",
    "python\n",
    "Copy\n",
    "Edit\n",
    "if = 10  # ❌ SyntaxError\n",
    "You can check all keywords using:\n",
    "\n",
    "python\n",
    "Copy\n",
    "Edit\n",
    "import keyword\n",
    "print(keyword.kwlist)\n",
    "\n",
    "\n",
    "\n",
    "\n",
    "\n",
    "\n",
    "\n"
   ]
  },
  {
   "cell_type": "markdown",
   "id": "b4bcd4a3",
   "metadata": {},
   "source": [
    "## Q5 : What is mutability in Python \n",
    "ANS:\n",
    "    Mutability in Python\n",
    "Definition: Mutability refers to whether an object’s state can be changed after its creation.\n",
    "\n",
    "Mutable Objects: Their contents can be modified. Examples: list, dict, set, bytearray.\n",
    "\n",
    "Immutable Objects: Their contents cannot be changed. Examples: int, float, tuple, str, frozenset.\n",
    "\n",
    "Impact on Performance: Mutable objects are more flexible but can lead to unexpected changes if modified in place.\n",
    "\n",
    "Immutability Benefits: Safer for concurrent programming and hashable (can be used as dictionary keys or set elements).\n",
    "\n",
    "Example:\n",
    "\n",
    "python\n",
    "Copy\n",
    "Edit\n",
    "lst = [1, 2, 3]  # Mutable\n",
    "lst.append(4)  # Modifies original list\n",
    "\n",
    "tup = (1, 2, 3)  # Immutable\n",
    "# tup[0] = 4  This will raise an error\n",
    "\n",
    "\n",
    "\n",
    "\n",
    "\n",
    "\n",
    "\n"
   ]
  },
  {
   "cell_type": "markdown",
   "id": "8027cf9a",
   "metadata": {},
   "source": [
    "## Q6: Why are lists mutable, but tuples are immutable \n",
    "ANS:\n",
    "    Memory Efficiency: Tuples are immutable, making them more memory-efficient than lists.\n",
    "\n",
    "Hashability: Tuples can be used as dictionary keys, while lists cannot because they are mutable.\n",
    "\n",
    "Performance: Since tuples don’t change, they have faster iteration and less overhead than lists.\n",
    "\n",
    "Safety: Immutability prevents accidental modifications, making tuples safer for data integrity.\n",
    "\n",
    "Implementation: Lists use dynamic arrays, allowing modifications, whereas tuples are stored as fixed-size structures."
   ]
  },
  {
   "cell_type": "markdown",
   "id": "b423173b",
   "metadata": {},
   "source": [
    "## Q7:  What is the difference between “==” and “is” operators in Python \n",
    "ANS:\n",
    "    == (Equality Operator)\n",
    "\n",
    "Checks if values of two objects are equal.\n",
    "\n",
    "Example: 5 == 5 → True\n",
    "\n",
    "is (Identity Operator)\n",
    "\n",
    "Checks if two variables refer to the same object in memory.\n",
    "\n",
    "Example: a is b is True only if a and b point to the same memory location.\n",
    "\n",
    "Example Difference:\n",
    "\n",
    "python\n",
    "Copy\n",
    "Edit\n",
    "a = [1, 2, 3]  \n",
    "b = [1, 2, 3]  \n",
    "print(a == b)  # True (Same values)  \n",
    "print(a is b)  # False (Different memory locations)  "
   ]
  },
  {
   "cell_type": "markdown",
   "id": "fa05b8a3",
   "metadata": {},
   "source": [
    "## Q8:  What are logical operators in Python\n",
    "ANS:\n",
    "    Logical operators in Python:\n",
    "\n",
    "and – Returns True if both conditions are True.\n",
    "\n",
    "or – Returns True if at least one condition is True.\n",
    "\n",
    "not – Returns True if the condition is False (negates the result)."
   ]
  },
  {
   "cell_type": "markdown",
   "id": "a84d7253",
   "metadata": {},
   "source": [
    "## Q9:  What is type casting in Python?\n",
    "ANS:\n",
    "    Type Casting in Python:\n",
    "Type casting refers to converting one data type into another.\n",
    "\n",
    "Types of Type Casting:\n",
    "Implicit Type Casting (Automatic)\n",
    "\n",
    "Done automatically by Python.\n",
    "\n",
    "Converts smaller data types to larger ones (e.g., int to float).\n",
    "\n",
    "Example: x = 5 + 3.2 → x becomes 8.2 (float).\n",
    "\n",
    "Explicit Type Casting (Manual)\n",
    "\n",
    "Done using built-in functions:\n",
    "\n",
    "int() → Converts to integer.\n",
    "\n",
    "float() → Converts to float.\n",
    "\n",
    "str() → Converts to string.\n",
    "\n",
    "list(), tuple(), set() → Convert to respective types.\n",
    "\n",
    "Example: x = int(\"10\") → x becomes 10 (int)."
   ]
  },
  {
   "cell_type": "markdown",
   "id": "8fff8b51",
   "metadata": {},
   "source": [
    "## Q10 :  What is the difference between implicit and explicit type casting ?\n",
    "ANS:\n",
    "    Difference Between Implicit and Explicit Type Casting\n",
    "1. Implicit Type Casting (Type Promotion)\n",
    "Done automatically by the compiler.\n",
    "\n",
    "Converts a smaller data type to a larger one (e.g., int → float).\n",
    "\n",
    "No data loss or risk of errors.\n",
    "\n",
    "Example:\n",
    "\n",
    "cpp\n",
    "Copy\n",
    "Edit\n",
    "int a = 10;  \n",
    "float b = a;  // Implicit conversion from int to float  \n",
    "2. Explicit Type Casting (Type Conversion)\n",
    "Done manually by the programmer using type casting operators.\n",
    "\n",
    "Converts a larger data type to a smaller one (e.g., float → int).\n",
    "\n",
    "May cause data loss or precision loss.\n",
    "\n",
    "Example:\n",
    "\n",
    "cpp\n",
    "Copy\n",
    "Edit\n",
    "float x = 10.5;  \n",
    "int y = (int)x;  // Explicit conversion from float to int  \n",
    "\n",
    "\n",
    "\n",
    "\n",
    "\n",
    "\n",
    "\n"
   ]
  },
  {
   "cell_type": "markdown",
   "id": "9732d2e1",
   "metadata": {},
   "source": [
    "## Q11:  What is the purpose of conditional statements in Python ?\n",
    "ANS:\n",
    "     Difference Between Implicit and Explicit Type Casting\n",
    "1. Implicit Type Casting (Type Promotion)\n",
    "Done automatically by the compiler.\n",
    "\n",
    "Converts a smaller data type to a larger one (e.g., int → float).\n",
    "\n",
    "No data loss or risk of errors.\n",
    "\n",
    "Example:\n",
    "\n",
    "cpp\n",
    "Copy\n",
    "Edit\n",
    "int a = 10;  \n",
    "float b = a;  // Implicit conversion from int to float  \n",
    "2. Explicit Type Casting (Type Conversion)\n",
    "Done manually by the programmer using type casting operators.\n",
    "\n",
    "Converts a larger data type to a smaller one (e.g., float → int).\n",
    "\n",
    "May cause data loss or precision loss.\n",
    "\n",
    "Example:\n",
    "\n",
    "cpp\n",
    "Copy\n",
    "Edit\n",
    "float x = 10.5;  \n",
    "int y = (int)x;  // Explicit conversion from float to int "
   ]
  },
  {
   "cell_type": "markdown",
   "id": "59ff6af3",
   "metadata": {},
   "source": [
    "## Q12: How does the elif statement work ?\n",
    "ANS:\n",
    "    elif (short for \"else if\") is used in conditional statements to check multiple conditions sequentially.\n",
    "\n",
    "It executes only if the previous if or elif conditions are false.\n",
    "\n",
    "You can have multiple elif statements between if and else.\n",
    "\n",
    "The first elif condition that evaluates to True gets executed, and the rest are ignored.\n",
    "\n",
    "If none of the if or elif conditions are True, the else block (if present) executes.\n",
    "\n",
    "Example:\n",
    "python\n",
    "Copy\n",
    "Edit\n",
    "x = 10\n",
    "\n",
    "if x > 20:\n",
    "    print(\"Greater than 20\")\n",
    "elif x > 15:\n",
    "    print(\"Greater than 15\")\n",
    "elif x > 5:\n",
    "    print(\"Greater than 5\")  # This executes\n",
    "else:\n",
    "    print(\"5 or less\")"
   ]
  },
  {
   "cell_type": "markdown",
   "id": "2a63ff21",
   "metadata": {},
   "source": [
    "Q13 :  What is the difference between for and while loops ?\n",
    "    ANS:'\n",
    "        For Loop:\n",
    "\n",
    "Used when the number of iterations is known.\n",
    "\n",
    "Iterates over a sequence (e.g., list, range, string).\n",
    "\n",
    "Syntax: for item in iterable: or for i in range(n):\n",
    "\n",
    "While Loop:\n",
    "\n",
    "Used when the number of iterations is unknown and depends on a condition.\n",
    "\n",
    "Runs as long as the condition remains True.\n",
    "\n",
    "Syntax: while condition:"
   ]
  },
  {
   "cell_type": "markdown",
   "id": "b82f6fde",
   "metadata": {},
   "source": [
    "## Q14: Describe a scenario where a while loop is more suitable than a for loop.\n",
    "ANS: \n",
    "A while loop is more suitable than a for loop in scenarios where:\n",
    "\n",
    "The number of iterations is unknown beforehand and depends on a condition.\n",
    "\n",
    "You need to loop until a specific event occurs rather than iterating over a sequence.\n",
    "\n",
    "The loop must run indefinitely until an external break condition is met.\n",
    "\n",
    "Handling user input validation, where you keep asking until valid input is provided.\n",
    "\n",
    "Waiting for a condition to become true, such as polling for a resource.\n",
    "\n",
    "Example:\n",
    "\n",
    "python\n",
    "Copy\n",
    "Edit\n",
    "password = \"secure123\"\n",
    "user_input = \"\"\n",
    "\n",
    "while user_input != password:\n",
    "    user_input = input(\"Enter password: \")\n",
    "print(\"Access granted!\")\n"
   ]
  },
  {
   "cell_type": "markdown",
   "id": "3dc1e443",
   "metadata": {},
   "source": [
    "## PRACTICAL QUESTIONS"
   ]
  },
  {
   "cell_type": "code",
   "execution_count": 1,
   "id": "4a10a0ff",
   "metadata": {},
   "outputs": [
    {
     "name": "stdout",
     "output_type": "stream",
     "text": [
      "Hello World!\n"
     ]
    }
   ],
   "source": [
    "## Q1: Write a Python program to print \"Hello, World!y\n",
    "print(\"Hello World!\")"
   ]
  },
  {
   "cell_type": "code",
   "execution_count": 2,
   "id": "ebf93ae9",
   "metadata": {},
   "outputs": [
    {
     "name": "stdout",
     "output_type": "stream",
     "text": [
      "Rishabh , 23\n"
     ]
    }
   ],
   "source": [
    "## Q2: Write a Python program that displays your name and age?\n",
    "a = \"Rishabh\"\n",
    "b = 23\n",
    "print(a,\",\",b)"
   ]
  },
  {
   "cell_type": "code",
   "execution_count": 4,
   "id": "a9550410",
   "metadata": {},
   "outputs": [
    {
     "name": "stdout",
     "output_type": "stream",
     "text": [
      "['False', 'None', 'True', '__peg_parser__', 'and', 'as', 'assert', 'async', 'await', 'break', 'class', 'continue', 'def', 'del', 'elif', 'else', 'except', 'finally', 'for', 'from', 'global', 'if', 'import', 'in', 'is', 'lambda', 'nonlocal', 'not', 'or', 'pass', 'raise', 'return', 'try', 'while', 'with', 'yield']\n"
     ]
    }
   ],
   "source": [
    "##Q3: Write code to print all the pre-defined keywords in Python using the keyword library8\n",
    "from keyword import kwlist\n",
    "print(kwlist)"
   ]
  },
  {
   "cell_type": "code",
   "execution_count": 12,
   "id": "39ffe4f8",
   "metadata": {},
   "outputs": [
    {
     "name": "stdout",
     "output_type": "stream",
     "text": [
      "No keyword found\n"
     ]
    }
   ],
   "source": [
    "##Q4 : Write a program that checks if a given word is a Python keyword.\n",
    "import keyword\n",
    "s = \"pwkills\"\n",
    "if \"if\" in s:\n",
    "    print(\"keyword found\")\n",
    "else:\n",
    "    print(\"No keyword found\")"
   ]
  },
  {
   "cell_type": "code",
   "execution_count": 14,
   "id": "a81a8530",
   "metadata": {},
   "outputs": [
    {
     "name": "stdout",
     "output_type": "stream",
     "text": [
      "[7, 2, 3, 4, 5]\n"
     ]
    },
    {
     "ename": "TypeError",
     "evalue": "'tuple' object does not support item assignment",
     "output_type": "error",
     "traceback": [
      "\u001b[1;31m---------------------------------------------------------------------------\u001b[0m",
      "\u001b[1;31mTypeError\u001b[0m                                 Traceback (most recent call last)",
      "\u001b[1;32m~\\AppData\\Local\\Temp\\ipykernel_11608\\437723071.py\u001b[0m in \u001b[0;36m<module>\u001b[1;34m\u001b[0m\n\u001b[0;32m      7\u001b[0m \u001b[0mprint\u001b[0m\u001b[1;33m(\u001b[0m\u001b[0ml\u001b[0m\u001b[1;33m)\u001b[0m\u001b[1;33m\u001b[0m\u001b[1;33m\u001b[0m\u001b[0m\n\u001b[0;32m      8\u001b[0m \u001b[1;31m## For tuple it will raise an error, coz it is unchangeable\u001b[0m\u001b[1;33m\u001b[0m\u001b[1;33m\u001b[0m\u001b[0m\n\u001b[1;32m----> 9\u001b[1;33m \u001b[0mt\u001b[0m\u001b[1;33m[\u001b[0m\u001b[1;36m2\u001b[0m\u001b[1;33m]\u001b[0m \u001b[1;33m=\u001b[0m \u001b[1;36m10\u001b[0m \u001b[1;31m## this will raise an error\u001b[0m\u001b[1;33m\u001b[0m\u001b[1;33m\u001b[0m\u001b[0m\n\u001b[0m",
      "\u001b[1;31mTypeError\u001b[0m: 'tuple' object does not support item assignment"
     ]
    }
   ],
   "source": [
    "##Q5 : Create a list and tuple in Python, and demonstrate how attempting to change an element works differently\n",
    "#for each.\n",
    "l = [1,2,3,4,5]\n",
    "t = (1,2,3,4,5)\n",
    "## For list it can be changeable\n",
    "l[0] = 7\n",
    "print(l)\n",
    "## For tuple it will raise an error, coz it is unchangeable\n",
    "t[2] = 10 ## this will raise an error"
   ]
  },
  {
   "cell_type": "code",
   "execution_count": 15,
   "id": "9acf54cb",
   "metadata": {},
   "outputs": [
    {
     "name": "stdout",
     "output_type": "stream",
     "text": [
      "Before function call:\n",
      "x: 5\n",
      "y: [1, 2, 3]\n",
      "Inside function:\n",
      "num: 15\n",
      "lst: [1, 2, 3, 100]\n",
      "After function call:\n",
      "x: 5\n",
      "y: [1, 2, 3, 100]\n"
     ]
    }
   ],
   "source": [
    "##Q6:  Write a function to demonstrate the behavior of mutable and immutable arguments.\n",
    "def demonstrate_mutable_immutable(num, lst):\n",
    "    # Immutable: Try to modify an integer\n",
    "    num += 10  # Creates a new integer object, original num remains unchanged\n",
    "\n",
    "    # Mutable: Modify the list\n",
    "    lst.append(100)  # Modifies the original list\n",
    "\n",
    "    print(\"Inside function:\")\n",
    "    print(\"num:\", num)  # New value inside function\n",
    "    print(\"lst:\", lst)  # Modified list inside function\n",
    "\n",
    "# Initialize variables\n",
    "x = 5  # Immutable (integer)\n",
    "y = [1, 2, 3]  # Mutable (list)\n",
    "\n",
    "print(\"Before function call:\")\n",
    "print(\"x:\", x)\n",
    "print(\"y:\", y)\n",
    "\n",
    "# Call function\n",
    "demonstrate_mutable_immutable(x, y)\n",
    "\n",
    "print(\"After function call:\")\n",
    "print(\"x:\", x)  # Remains unchanged\n",
    "print(\"y:\", y)  # Changed because lists are mutable\n"
   ]
  },
  {
   "cell_type": "code",
   "execution_count": 19,
   "id": "d2197b1a",
   "metadata": {},
   "outputs": [
    {
     "name": "stdout",
     "output_type": "stream",
     "text": [
      "Enter the 1 number:5\n",
      "Enter the 2 number:3\n",
      "8\n",
      "2\n",
      "15\n",
      "1.6666666666666667\n"
     ]
    }
   ],
   "source": [
    "## Q7: . Write a program that performs basic arithmetic operations on two user-input numbers.\n",
    "a = int(input(\"Enter the 1 number:\"))\n",
    "b = int(input(\"Enter the 2 number:\"))\n",
    "print(a+b)\n",
    "print(a-b)\n",
    "print(a*b)\n",
    "print(a/b)"
   ]
  },
  {
   "cell_type": "code",
   "execution_count": 20,
   "id": "d0486e8c",
   "metadata": {},
   "outputs": [
    {
     "name": "stdout",
     "output_type": "stream",
     "text": [
      "a = 15, b = 8\n",
      "a > 10 and b < 20: True\n",
      "a > 10 or b < 5: True\n",
      "not (a > 10): False\n"
     ]
    }
   ],
   "source": [
    "## Q8 : Write a program to demonstrate the use of logical operators.\n",
    "# Function to demonstrate logical operators\n",
    "def logical_operators_demo(a, b):\n",
    "    print(f\"a = {a}, b = {b}\")\n",
    "\n",
    "    # Logical AND\n",
    "    print(\"a > 10 and b < 20:\", a > 10 and b < 20)  \n",
    "\n",
    "    # Logical OR\n",
    "    print(\"a > 10 or b < 5:\", a > 10 or b < 5)  \n",
    "\n",
    "    # Logical NOT\n",
    "    print(\"not (a > 10):\", not (a > 10))  \n",
    "\n",
    "# Example values\n",
    "logical_operators_demo(15, 8)\n"
   ]
  },
  {
   "cell_type": "code",
   "execution_count": 3,
   "id": "b0d4cac9",
   "metadata": {},
   "outputs": [
    {
     "name": "stdout",
     "output_type": "stream",
     "text": [
      "Enter a value: hello\n",
      "Cannot convert to Integer\n",
      "Cannot convert to Float\n",
      "Boolean: True\n"
     ]
    }
   ],
   "source": [
    "##Q9 : Write a Python program to convert user input from string to integer, float, and boolean types\n",
    "# Take user input as a string\n",
    "user_input = input(\"Enter a value: \")\n",
    "\n",
    "# Convert to integer (if possible)\n",
    "try:\n",
    "    int_value = int(user_input)\n",
    "    print(\"Integer:\", int_value)\n",
    "except ValueError:\n",
    "    print(\"Cannot convert to Integer\")\n",
    "\n",
    "# Convert to float (if possible)\n",
    "try:\n",
    "    float_value = float(user_input)\n",
    "    print(\"Float:\", float_value)\n",
    "except ValueError:\n",
    "    print(\"Cannot convert to Float\")\n",
    "\n",
    "# Convert to boolean\n",
    "bool_value = bool(user_input)  # Empty string is False, non-empty is True\n",
    "print(\"Boolean:\", bool_value)\n"
   ]
  },
  {
   "cell_type": "code",
   "execution_count": 5,
   "id": "33a814fa",
   "metadata": {},
   "outputs": [
    {
     "name": "stdout",
     "output_type": "stream",
     "text": [
      "{1, 2, 3, 4, 7, 10} <class 'set'>\n"
     ]
    }
   ],
   "source": [
    "##Q10 :  Write code to demonstrate type casting with list elements.\n",
    "l = (1,2,3,4,7,7,10,10)\n",
    "s = set(l) ## coverting list to set this will remove duplicates\n",
    "print(s, type(s))"
   ]
  },
  {
   "cell_type": "code",
   "execution_count": 8,
   "id": "67a15aa4",
   "metadata": {},
   "outputs": [
    {
     "name": "stdout",
     "output_type": "stream",
     "text": [
      "Enter the number:7\n",
      "Positive\n"
     ]
    }
   ],
   "source": [
    "##Q11: Write a program that checks if a number is positive, negative, or zero\n",
    "num = int(input(\"Enter the number:\"))\n",
    "\n",
    "if num>0:\n",
    "    print(\"Positive\")\n",
    "elif num<0:\n",
    "    print(\"Negative\")\n",
    "else:\n",
    "    print(\"Zero\")"
   ]
  },
  {
   "cell_type": "code",
   "execution_count": 9,
   "id": "484a21bd",
   "metadata": {},
   "outputs": [
    {
     "name": "stdout",
     "output_type": "stream",
     "text": [
      "1\n",
      "2\n",
      "3\n",
      "4\n",
      "5\n",
      "6\n",
      "7\n",
      "8\n",
      "9\n",
      "10\n"
     ]
    }
   ],
   "source": [
    "##Q12: Write a for loop to print numbers from 1 to 10.\n",
    "for i in range(1,11):\n",
    "    print(i)"
   ]
  },
  {
   "cell_type": "code",
   "execution_count": 18,
   "id": "c3987369",
   "metadata": {},
   "outputs": [
    {
     "name": "stdout",
     "output_type": "stream",
     "text": [
      "650\n"
     ]
    }
   ],
   "source": [
    "## Q13: Write a Python program to find the sum of all even numbers between 1 and 50.\n",
    "total = 0\n",
    "for i in range(1,51):\n",
    "    if i%2 == 0:\n",
    "        total = total + i\n",
    "print(total)\n"
   ]
  },
  {
   "cell_type": "code",
   "execution_count": null,
   "id": "404b57b9",
   "metadata": {},
   "outputs": [],
   "source": [
    "## Q14: . Write a program to reverse a string using a while loop.\n",
    "s = \"hello\"\n",
    "reversed_s = \"\"\n",
    "i = len(s) - 1\n",
    "\n",
    "while i >= 0:\n",
    "    reversed_s += s[i]  \n",
    "    i -= 1\n",
    "\n",
    "print(reversed_s)\n"
   ]
  },
  {
   "cell_type": "code",
   "execution_count": null,
   "id": "7686fa8b",
   "metadata": {},
   "outputs": [],
   "source": [
    "## Q15:  Write a Python program to calculate the factorial of a number provided by the user using a while loop"
   ]
  },
  {
   "cell_type": "code",
   "execution_count": 12,
   "id": "77ee0527",
   "metadata": {},
   "outputs": [
    {
     "name": "stdout",
     "output_type": "stream",
     "text": [
      "Enter a number: 5\n",
      "Factorial of 5 is 120\n"
     ]
    }
   ],
   "source": [
    "# Get user input\n",
    "num = int(input(\"Enter a number: \"))\n",
    "\n",
    "# Initialize factorial result and counter\n",
    "factorial = 1\n",
    "i = num\n",
    "\n",
    "# Calculate factorial using while loop\n",
    "while i > 0:\n",
    "    factorial *= i\n",
    "    i -= 1\n",
    "\n",
    "# Print the result\n",
    "print(f\"Factorial of {num} is {factorial}\")\n"
   ]
  },
  {
   "cell_type": "code",
   "execution_count": 20,
   "id": "754b2b31",
   "metadata": {},
   "outputs": [],
   "source": [
    "def fib(n):\n",
    "    a,b = 0,1\n",
    "    for i in range(n):\n",
    "        print(a)\n",
    "        a,b = b,a+b\n",
    "\n"
   ]
  },
  {
   "cell_type": "code",
   "execution_count": 22,
   "id": "93fc81bc",
   "metadata": {},
   "outputs": [
    {
     "name": "stdout",
     "output_type": "stream",
     "text": [
      "0\n",
      "1\n",
      "1\n",
      "2\n",
      "3\n",
      "5\n",
      "8\n"
     ]
    }
   ],
   "source": [
    "fib(7)"
   ]
  },
  {
   "cell_type": "code",
   "execution_count": null,
   "id": "5d3a3ee4",
   "metadata": {},
   "outputs": [],
   "source": []
  }
 ],
 "metadata": {
  "kernelspec": {
   "display_name": "Python 3 (ipykernel)",
   "language": "python",
   "name": "python3"
  },
  "language_info": {
   "codemirror_mode": {
    "name": "ipython",
    "version": 3
   },
   "file_extension": ".py",
   "mimetype": "text/x-python",
   "name": "python",
   "nbconvert_exporter": "python",
   "pygments_lexer": "ipython3",
   "version": "3.9.13"
  }
 },
 "nbformat": 4,
 "nbformat_minor": 5
}
